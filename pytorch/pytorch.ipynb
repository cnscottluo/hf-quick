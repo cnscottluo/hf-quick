{
 "cells": [
  {
   "cell_type": "code",
   "execution_count": 1,
   "metadata": {},
   "outputs": [],
   "source": [
    "import torch"
   ]
  },
  {
   "cell_type": "code",
   "execution_count": 2,
   "metadata": {},
   "outputs": [
    {
     "data": {
      "text/plain": [
       "0"
      ]
     },
     "execution_count": 2,
     "metadata": {},
     "output_type": "execute_result"
    }
   ],
   "source": [
    "scalar = torch.tensor(7)\n",
    "scalar.ndim"
   ]
  },
  {
   "cell_type": "code",
   "execution_count": 3,
   "metadata": {},
   "outputs": [
    {
     "data": {
      "text/plain": [
       "1"
      ]
     },
     "execution_count": 3,
     "metadata": {},
     "output_type": "execute_result"
    }
   ],
   "source": [
    "vector = torch.tensor([1, 2])\n",
    "vector.ndim"
   ]
  },
  {
   "cell_type": "code",
   "execution_count": 4,
   "metadata": {},
   "outputs": [
    {
     "data": {
      "text/plain": [
       "2"
      ]
     },
     "execution_count": 4,
     "metadata": {},
     "output_type": "execute_result"
    }
   ],
   "source": [
    "matrix = torch.tensor([[1, 2], [3, 4]])\n",
    "matrix.ndim"
   ]
  },
  {
   "cell_type": "code",
   "execution_count": 5,
   "metadata": {},
   "outputs": [
    {
     "data": {
      "text/plain": [
       "3"
      ]
     },
     "execution_count": 5,
     "metadata": {},
     "output_type": "execute_result"
    }
   ],
   "source": [
    "tensor = torch.tensor([[[1, 2], [3, 4]], [[5, 6], [7, 8]]])\n",
    "tensor.ndim"
   ]
  },
  {
   "cell_type": "code",
   "execution_count": 16,
   "metadata": {},
   "outputs": [
    {
     "name": "stdout",
     "output_type": "stream",
     "text": [
      "tensor(10)\n",
      "tensor([[ 1.3010, -0.2458,  2.1554],\n",
      "        [ 0.7967, -0.1847, -3.0264]], dtype=torch.float64)\n",
      "tensor([[10., 11., 12.],\n",
      "        [13., 14., 15.]])\n"
     ]
    }
   ],
   "source": [
    "import numpy as np\n",
    "\n",
    "data = torch.tensor(10)\n",
    "print(data)\n",
    "\n",
    "data = np.random.randn(2,3)\n",
    "data = torch.tensor(data)\n",
    "print(data)\n",
    "\n",
    "data = [[10.0, 11.0, 12.0], [13.0, 14.0, 15.0]]\n",
    "data = torch.tensor(data)\n",
    "print(data)"
   ]
  },
  {
   "cell_type": "code",
   "execution_count": 14,
   "metadata": {},
   "outputs": [
    {
     "name": "stdout",
     "output_type": "stream",
     "text": [
      "tensor([[0., 0., 0.],\n",
      "        [0., 0., 0.]])\n",
      "tensor([10.])\n",
      "tensor([10., 20.])\n"
     ]
    }
   ],
   "source": [
    "data = torch.Tensor(2,3)\n",
    "print(data)\n",
    "\n",
    "data = torch.Tensor([10])\n",
    "print(data)\n",
    "\n",
    "data=  torch.Tensor([10,20])\n",
    "print(data)"
   ]
  },
  {
   "cell_type": "code",
   "execution_count": 17,
   "metadata": {},
   "outputs": [
    {
     "name": "stdout",
     "output_type": "stream",
     "text": [
      "tensor([[0, 0, 0],\n",
      "        [0, 0, 0]], dtype=torch.int32)\n",
      "tensor([2, 3], dtype=torch.int32)\n"
     ]
    }
   ],
   "source": [
    "data = torch.IntTensor(2,3)\n",
    "print(data)\n",
    "\n",
    "data=  torch.IntTensor([2.5, 3.0])\n",
    "print(data)\n",
    "\n",
    "data = torch.ShortTensor()\n",
    "data = torch.LongTensor()\n",
    "data = torch.FloatTensor()\n",
    "data = torch.DoubleTensor()"
   ]
  },
  {
   "cell_type": "code",
   "execution_count": 18,
   "metadata": {},
   "outputs": [
    {
     "data": {
      "text/plain": [
       "True"
      ]
     },
     "execution_count": 18,
     "metadata": {},
     "output_type": "execute_result"
    }
   ],
   "source": [
    "torch.cuda.is_available()"
   ]
  },
  {
   "cell_type": "code",
   "execution_count": 19,
   "metadata": {},
   "outputs": [
    {
     "name": "stdout",
     "output_type": "stream",
     "text": [
      "2.6.0+cu126\n"
     ]
    }
   ],
   "source": [
    "print(torch.__version__)"
   ]
  },
  {
   "cell_type": "code",
   "execution_count": 26,
   "metadata": {},
   "outputs": [
    {
     "name": "stdout",
     "output_type": "stream",
     "text": [
      "tensor([ 0,  1,  2,  3,  4,  5,  6,  7,  8,  9, 10, 11, 12, 13, 14, 15, 16, 17,\n",
      "        18, 19, 20, 21, 22, 23, 24, 25, 26, 27, 28, 29, 30, 31, 32, 33, 34, 35,\n",
      "        36, 37, 38, 39, 40, 41, 42, 43, 44, 45, 46, 47, 48, 49])\n",
      "tensor([ 0.0000,  2.6316,  5.2632,  7.8947, 10.5263, 13.1579, 15.7895, 18.4211,\n",
      "        21.0526, 23.6842, 26.3158, 28.9474, 31.5789, 34.2105, 36.8421, 39.4737,\n",
      "        42.1053, 44.7368, 47.3684, 50.0000])\n"
     ]
    }
   ],
   "source": [
    "# 在指定区间按照步长生成元素 [start, end, step)\n",
    "data = torch.arange(0, 50, step=1)\n",
    "print(data)\n",
    "# 在指定区间按照元素个数生成元素 [start, end, num]\n",
    "data = torch.linspace(0, 50, 20)\n",
    "print(data)"
   ]
  },
  {
   "cell_type": "code",
   "execution_count": 32,
   "metadata": {},
   "outputs": [
    {
     "name": "stdout",
     "output_type": "stream",
     "text": [
      "222\n",
      "222\n",
      "tensor([[-0.4248,  1.1523, -2.1342],\n",
      "        [ 0.5376,  1.0892, -2.2787]])\n"
     ]
    }
   ],
   "source": [
    "seed = torch.random.initial_seed()\n",
    "print(seed)\n",
    "\n",
    "torch.random.manual_seed(222)\n",
    "seed = torch.random.initial_seed()\n",
    "print(seed)\n",
    "\n",
    "data = torch.randn(2,3)\n",
    "print(data)"
   ]
  },
  {
   "cell_type": "code",
   "execution_count": 34,
   "metadata": {},
   "outputs": [
    {
     "name": "stdout",
     "output_type": "stream",
     "text": [
      "tensor([[1., 1., 1.],\n",
      "        [1., 1., 1.]])\n",
      "tensor([[1., 1., 1.],\n",
      "        [1., 1., 1.]])\n"
     ]
    }
   ],
   "source": [
    "data  = torch.ones(2,3)\n",
    "print(data)\n",
    "\n",
    "data = torch.ones_like(data)\n",
    "print(data)"
   ]
  },
  {
   "cell_type": "code",
   "execution_count": 35,
   "metadata": {},
   "outputs": [
    {
     "name": "stdout",
     "output_type": "stream",
     "text": [
      "tensor([[0., 0., 0.],\n",
      "        [0., 0., 0.]])\n",
      "tensor([[0., 0., 0.],\n",
      "        [0., 0., 0.]])\n"
     ]
    }
   ],
   "source": [
    "data = torch.zeros(2,3)\n",
    "print(data)\n",
    "\n",
    "data = torch.zeros_like(data)\n",
    "print(data)"
   ]
  },
  {
   "cell_type": "code",
   "execution_count": 36,
   "metadata": {},
   "outputs": [
    {
     "name": "stdout",
     "output_type": "stream",
     "text": [
      "tensor([[7, 7, 7],\n",
      "        [7, 7, 7]])\n",
      "tensor([[9, 9, 9],\n",
      "        [9, 9, 9]])\n"
     ]
    }
   ],
   "source": [
    "data = torch.full([2,3],7)\n",
    "print(data)\n",
    "\n",
    "data = torch.full_like(data, 9)\n",
    "print(data)"
   ]
  },
  {
   "cell_type": "code",
   "execution_count": 38,
   "metadata": {},
   "outputs": [
    {
     "name": "stdout",
     "output_type": "stream",
     "text": [
      "torch.int64\n",
      "torch.float64\n"
     ]
    }
   ],
   "source": [
    "data = torch.full([2,3],10)\n",
    "print(data.dtype)\n",
    "\n",
    "data = data.type(torch.DoubleTensor)\n",
    "print(data.dtype)\n",
    "\n",
    "data = data.type(torch.IntTensor)\n",
    "data = data.type(torch.LongTensor)\n",
    "data = data.type(torch.FloatTensor)"
   ]
  },
  {
   "cell_type": "code",
   "execution_count": 39,
   "metadata": {},
   "outputs": [
    {
     "name": "stdout",
     "output_type": "stream",
     "text": [
      "torch.int64\n",
      "torch.float64\n"
     ]
    }
   ],
   "source": [
    "data = torch.full([2,3],10)\n",
    "print(data.dtype)\n",
    "\n",
    "data = data.double()\n",
    "print(data.dtype)\n",
    "\n",
    "data = data.int()\n",
    "data = data.long()\n",
    "data = data.float()"
   ]
  },
  {
   "cell_type": "code",
   "execution_count": null,
   "metadata": {},
   "outputs": [
    {
     "name": "stdout",
     "output_type": "stream",
     "text": [
      "<class 'torch.Tensor'>\n",
      "<class 'numpy.ndarray'>\n",
      "tensor([2, 3, 4])\n",
      "tensor([20,  3,  4])\n"
     ]
    }
   ],
   "source": [
    "data_tensor = torch.tensor([2,3,4])\n",
    "data_numpy = data_tensor.numpy()\n",
    "print(type(data_tensor))\n",
    "print(type(data_numpy))\n",
    "\n",
    "print(data_tensor)\n",
    "data_numpy[0] = 20\n",
    "print(data_tensor)"
   ]
  },
  {
   "cell_type": "code",
   "execution_count": 42,
   "metadata": {},
   "outputs": [
    {
     "name": "stdout",
     "output_type": "stream",
     "text": [
      "<class 'torch.Tensor'>\n",
      "<class 'numpy.ndarray'>\n",
      "tensor([2, 3, 4])\n",
      "tensor([2, 3, 4])\n"
     ]
    }
   ],
   "source": [
    "data_tensor = torch.tensor([2,3,4])\n",
    "data_numpy = data_tensor.numpy().copy()\n",
    "print(type(data_tensor))\n",
    "print(type(data_numpy))\n",
    "\n",
    "print(data_tensor)\n",
    "data_numpy[0] = 20\n",
    "print(data_tensor)"
   ]
  },
  {
   "cell_type": "code",
   "execution_count": 45,
   "metadata": {},
   "outputs": [
    {
     "name": "stdout",
     "output_type": "stream",
     "text": [
      "[2 3 4]\n",
      "tensor([2, 3, 4])\n",
      "[2 3 4]\n",
      "[10  3  4]\n"
     ]
    }
   ],
   "source": [
    "data_numpy = np.array([2,3,4])\n",
    "print(data_numpy)\n",
    "\n",
    "data_tensor = torch.from_numpy(data_numpy)\n",
    "print(data_tensor)\n",
    "\n",
    "print(data_numpy)\n",
    "data_tensor[0] = 10\n",
    "print(data_numpy)\n"
   ]
  },
  {
   "cell_type": "code",
   "execution_count": 49,
   "metadata": {},
   "outputs": [
    {
     "name": "stdout",
     "output_type": "stream",
     "text": [
      "[2 3 4]\n",
      "tensor([2, 3, 4])\n",
      "[2 3 4]\n",
      "[2 3 4]\n"
     ]
    }
   ],
   "source": [
    "data_numpy = np.array([2,3,4])\n",
    "print(data_numpy)\n",
    "\n",
    "data_tensor = torch.from_numpy(data_numpy.copy())\n",
    "print(data_tensor)\n",
    "\n",
    "print(data_numpy)\n",
    "data_tensor[0] = 10\n",
    "print(data_numpy)"
   ]
  },
  {
   "cell_type": "code",
   "execution_count": 50,
   "metadata": {},
   "outputs": [
    {
     "name": "stdout",
     "output_type": "stream",
     "text": [
      "[2 3 4]\n",
      "tensor([2, 3, 4])\n",
      "[2 3 4]\n",
      "[2 3 4]\n"
     ]
    }
   ],
   "source": [
    "data_numpy = np.array([2,3,4])\n",
    "print(data_numpy)\n",
    "\n",
    "data_tensor = torch.tensor(data_numpy)\n",
    "print(data_tensor)\n",
    "\n",
    "print(data_numpy)\n",
    "data_tensor[0] = 10\n",
    "print(data_numpy)"
   ]
  },
  {
   "cell_type": "code",
   "execution_count": 51,
   "metadata": {},
   "outputs": [
    {
     "name": "stdout",
     "output_type": "stream",
     "text": [
      "2\n",
      "2\n"
     ]
    }
   ],
   "source": [
    "data = torch.tensor([2,])\n",
    "print(data.item())\n",
    "\n",
    "data =  torch.tensor(2)\n",
    "print(data.item())"
   ]
  },
  {
   "cell_type": "code",
   "execution_count": 52,
   "metadata": {},
   "outputs": [
    {
     "name": "stdout",
     "output_type": "stream",
     "text": [
      "tensor([[9, 6, 0],\n",
      "        [4, 8, 3]])\n",
      "tensor([[19, 16, 10],\n",
      "        [14, 18, 13]])\n",
      "tensor([[19, 16, 10],\n",
      "        [14, 18, 13]])\n",
      "tensor([[-19, -16, -10],\n",
      "        [-14, -18, -13]])\n"
     ]
    }
   ],
   "source": [
    "data = torch.randint(0,10,[2,3])\n",
    "print(data)\n",
    "\n",
    "new_data = data.add(10)\n",
    "print(new_data)\n",
    "\n",
    "data.add_(10)\n",
    "print(data)\n",
    "\n",
    "print(data.neg())"
   ]
  },
  {
   "cell_type": "code",
   "execution_count": null,
   "metadata": {},
   "outputs": [
    {
     "name": "stdout",
     "output_type": "stream",
     "text": [
      "tensor([[ 5, 12],\n",
      "        [21, 32]])\n",
      "tensor([[ 5, 12],\n",
      "        [21, 32]])\n"
     ]
    }
   ],
   "source": [
    "data1 = torch.tensor([[1, 2], [3, 4]])\n",
    "data2 = torch.tensor([[5, 6], [7, 8]])\n",
    "\n",
    "data = torch.mul(data1, data2)\n",
    "print(data)\n",
    "\n",
    "data = data1 * data2\n",
    "print(data)"
   ]
  }
 ],
 "metadata": {
  "kernelspec": {
   "display_name": "hf",
   "language": "python",
   "name": "python3"
  },
  "language_info": {
   "codemirror_mode": {
    "name": "ipython",
    "version": 3
   },
   "file_extension": ".py",
   "mimetype": "text/x-python",
   "name": "python",
   "nbconvert_exporter": "python",
   "pygments_lexer": "ipython3",
   "version": "3.10.16"
  }
 },
 "nbformat": 4,
 "nbformat_minor": 2
}
