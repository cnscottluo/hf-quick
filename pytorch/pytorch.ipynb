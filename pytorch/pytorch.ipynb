{
 "cells": [
  {
   "cell_type": "code",
   "execution_count": 1,
   "metadata": {},
   "outputs": [],
   "source": [
    "import torch"
   ]
  },
  {
   "cell_type": "code",
   "execution_count": 2,
   "metadata": {},
   "outputs": [
    {
     "data": {
      "text/plain": [
       "0"
      ]
     },
     "execution_count": 2,
     "metadata": {},
     "output_type": "execute_result"
    }
   ],
   "source": [
    "scalar = torch.tensor(7)\n",
    "scalar.ndim"
   ]
  },
  {
   "cell_type": "code",
   "execution_count": 3,
   "metadata": {},
   "outputs": [
    {
     "data": {
      "text/plain": [
       "1"
      ]
     },
     "execution_count": 3,
     "metadata": {},
     "output_type": "execute_result"
    }
   ],
   "source": [
    "vector = torch.tensor([1, 2])\n",
    "vector.ndim"
   ]
  },
  {
   "cell_type": "code",
   "execution_count": 4,
   "metadata": {},
   "outputs": [
    {
     "data": {
      "text/plain": [
       "2"
      ]
     },
     "execution_count": 4,
     "metadata": {},
     "output_type": "execute_result"
    }
   ],
   "source": [
    "matrix = torch.tensor([[1, 2], [3, 4]])\n",
    "matrix.ndim"
   ]
  },
  {
   "cell_type": "code",
   "execution_count": 5,
   "metadata": {},
   "outputs": [
    {
     "data": {
      "text/plain": [
       "3"
      ]
     },
     "execution_count": 5,
     "metadata": {},
     "output_type": "execute_result"
    }
   ],
   "source": [
    "tensor = torch.tensor([[[1, 2], [3, 4]], [[5, 6], [7, 8]]])\n",
    "tensor.ndim"
   ]
  },
  {
   "cell_type": "code",
   "execution_count": 16,
   "metadata": {},
   "outputs": [
    {
     "name": "stdout",
     "output_type": "stream",
     "text": [
      "tensor(10)\n",
      "tensor([[ 1.3010, -0.2458,  2.1554],\n",
      "        [ 0.7967, -0.1847, -3.0264]], dtype=torch.float64)\n",
      "tensor([[10., 11., 12.],\n",
      "        [13., 14., 15.]])\n"
     ]
    }
   ],
   "source": [
    "import numpy as np\n",
    "\n",
    "data = torch.tensor(10)\n",
    "print(data)\n",
    "\n",
    "data = np.random.randn(2,3)\n",
    "data = torch.tensor(data)\n",
    "print(data)\n",
    "\n",
    "data = [[10.0, 11.0, 12.0], [13.0, 14.0, 15.0]]\n",
    "data = torch.tensor(data)\n",
    "print(data)"
   ]
  },
  {
   "cell_type": "code",
   "execution_count": 14,
   "metadata": {},
   "outputs": [
    {
     "name": "stdout",
     "output_type": "stream",
     "text": [
      "tensor([[0., 0., 0.],\n",
      "        [0., 0., 0.]])\n",
      "tensor([10.])\n",
      "tensor([10., 20.])\n"
     ]
    }
   ],
   "source": [
    "data = torch.Tensor(2,3)\n",
    "print(data)\n",
    "\n",
    "data = torch.Tensor([10])\n",
    "print(data)\n",
    "\n",
    "data=  torch.Tensor([10,20])\n",
    "print(data)"
   ]
  },
  {
   "cell_type": "code",
   "execution_count": 17,
   "metadata": {},
   "outputs": [
    {
     "name": "stdout",
     "output_type": "stream",
     "text": [
      "tensor([[0, 0, 0],\n",
      "        [0, 0, 0]], dtype=torch.int32)\n",
      "tensor([2, 3], dtype=torch.int32)\n"
     ]
    }
   ],
   "source": [
    "data = torch.IntTensor(2,3)\n",
    "print(data)\n",
    "\n",
    "data=  torch.IntTensor([2.5, 3.0])\n",
    "print(data)\n",
    "\n",
    "data = torch.ShortTensor()\n",
    "data = torch.LongTensor()\n",
    "data = torch.FloatTensor()\n",
    "data = torch.DoubleTensor()"
   ]
  },
  {
   "cell_type": "code",
   "execution_count": 18,
   "metadata": {},
   "outputs": [
    {
     "data": {
      "text/plain": [
       "True"
      ]
     },
     "execution_count": 18,
     "metadata": {},
     "output_type": "execute_result"
    }
   ],
   "source": [
    "torch.cuda.is_available()"
   ]
  },
  {
   "cell_type": "code",
   "execution_count": 19,
   "metadata": {},
   "outputs": [
    {
     "name": "stdout",
     "output_type": "stream",
     "text": [
      "2.6.0+cu126\n"
     ]
    }
   ],
   "source": [
    "print(torch.__version__)"
   ]
  },
  {
   "cell_type": "code",
   "execution_count": 26,
   "metadata": {},
   "outputs": [
    {
     "name": "stdout",
     "output_type": "stream",
     "text": [
      "tensor([ 0,  1,  2,  3,  4,  5,  6,  7,  8,  9, 10, 11, 12, 13, 14, 15, 16, 17,\n",
      "        18, 19, 20, 21, 22, 23, 24, 25, 26, 27, 28, 29, 30, 31, 32, 33, 34, 35,\n",
      "        36, 37, 38, 39, 40, 41, 42, 43, 44, 45, 46, 47, 48, 49])\n",
      "tensor([ 0.0000,  2.6316,  5.2632,  7.8947, 10.5263, 13.1579, 15.7895, 18.4211,\n",
      "        21.0526, 23.6842, 26.3158, 28.9474, 31.5789, 34.2105, 36.8421, 39.4737,\n",
      "        42.1053, 44.7368, 47.3684, 50.0000])\n"
     ]
    }
   ],
   "source": [
    "# 在指定区间按照步长生成元素 [start, end, step)\n",
    "data = torch.arange(0, 50, step=1)\n",
    "print(data)\n",
    "# 在指定区间按照元素个数生成元素 [start, end, num]\n",
    "data = torch.linspace(0, 50, 20)\n",
    "print(data)"
   ]
  },
  {
   "cell_type": "code",
   "execution_count": 32,
   "metadata": {},
   "outputs": [
    {
     "name": "stdout",
     "output_type": "stream",
     "text": [
      "222\n",
      "222\n",
      "tensor([[-0.4248,  1.1523, -2.1342],\n",
      "        [ 0.5376,  1.0892, -2.2787]])\n"
     ]
    }
   ],
   "source": [
    "seed = torch.random.initial_seed()\n",
    "print(seed)\n",
    "\n",
    "torch.random.manual_seed(222)\n",
    "seed = torch.random.initial_seed()\n",
    "print(seed)\n",
    "\n",
    "data = torch.randn(2,3)\n",
    "print(data)"
   ]
  },
  {
   "cell_type": "code",
   "execution_count": 34,
   "metadata": {},
   "outputs": [
    {
     "name": "stdout",
     "output_type": "stream",
     "text": [
      "tensor([[1., 1., 1.],\n",
      "        [1., 1., 1.]])\n",
      "tensor([[1., 1., 1.],\n",
      "        [1., 1., 1.]])\n"
     ]
    }
   ],
   "source": [
    "data  = torch.ones(2,3)\n",
    "print(data)\n",
    "\n",
    "data = torch.ones_like(data)\n",
    "print(data)"
   ]
  },
  {
   "cell_type": "code",
   "execution_count": 35,
   "metadata": {},
   "outputs": [
    {
     "name": "stdout",
     "output_type": "stream",
     "text": [
      "tensor([[0., 0., 0.],\n",
      "        [0., 0., 0.]])\n",
      "tensor([[0., 0., 0.],\n",
      "        [0., 0., 0.]])\n"
     ]
    }
   ],
   "source": [
    "data = torch.zeros(2,3)\n",
    "print(data)\n",
    "\n",
    "data = torch.zeros_like(data)\n",
    "print(data)"
   ]
  },
  {
   "cell_type": "code",
   "execution_count": 36,
   "metadata": {},
   "outputs": [
    {
     "name": "stdout",
     "output_type": "stream",
     "text": [
      "tensor([[7, 7, 7],\n",
      "        [7, 7, 7]])\n",
      "tensor([[9, 9, 9],\n",
      "        [9, 9, 9]])\n"
     ]
    }
   ],
   "source": [
    "data = torch.full([2,3],7)\n",
    "print(data)\n",
    "\n",
    "data = torch.full_like(data, 9)\n",
    "print(data)"
   ]
  },
  {
   "cell_type": "code",
   "execution_count": 38,
   "metadata": {},
   "outputs": [
    {
     "name": "stdout",
     "output_type": "stream",
     "text": [
      "torch.int64\n",
      "torch.float64\n"
     ]
    }
   ],
   "source": [
    "data = torch.full([2,3],10)\n",
    "print(data.dtype)\n",
    "\n",
    "data = data.type(torch.DoubleTensor)\n",
    "print(data.dtype)\n",
    "\n",
    "data = data.type(torch.IntTensor)\n",
    "data = data.type(torch.LongTensor)\n",
    "data = data.type(torch.FloatTensor)"
   ]
  },
  {
   "cell_type": "code",
   "execution_count": 39,
   "metadata": {},
   "outputs": [
    {
     "name": "stdout",
     "output_type": "stream",
     "text": [
      "torch.int64\n",
      "torch.float64\n"
     ]
    }
   ],
   "source": [
    "data = torch.full([2,3],10)\n",
    "print(data.dtype)\n",
    "\n",
    "data = data.double()\n",
    "print(data.dtype)\n",
    "\n",
    "data = data.int()\n",
    "data = data.long()\n",
    "data = data.float()"
   ]
  },
  {
   "cell_type": "code",
   "execution_count": null,
   "metadata": {},
   "outputs": [
    {
     "name": "stdout",
     "output_type": "stream",
     "text": [
      "<class 'torch.Tensor'>\n",
      "<class 'numpy.ndarray'>\n",
      "tensor([2, 3, 4])\n",
      "tensor([20,  3,  4])\n"
     ]
    }
   ],
   "source": [
    "data_tensor = torch.tensor([2,3,4])\n",
    "data_numpy = data_tensor.numpy()\n",
    "print(type(data_tensor))\n",
    "print(type(data_numpy))\n",
    "\n",
    "print(data_tensor)\n",
    "data_numpy[0] = 20\n",
    "print(data_tensor)"
   ]
  },
  {
   "cell_type": "code",
   "execution_count": 42,
   "metadata": {},
   "outputs": [
    {
     "name": "stdout",
     "output_type": "stream",
     "text": [
      "<class 'torch.Tensor'>\n",
      "<class 'numpy.ndarray'>\n",
      "tensor([2, 3, 4])\n",
      "tensor([2, 3, 4])\n"
     ]
    }
   ],
   "source": [
    "data_tensor = torch.tensor([2,3,4])\n",
    "data_numpy = data_tensor.numpy().copy()\n",
    "print(type(data_tensor))\n",
    "print(type(data_numpy))\n",
    "\n",
    "print(data_tensor)\n",
    "data_numpy[0] = 20\n",
    "print(data_tensor)"
   ]
  },
  {
   "cell_type": "code",
   "execution_count": 45,
   "metadata": {},
   "outputs": [
    {
     "name": "stdout",
     "output_type": "stream",
     "text": [
      "[2 3 4]\n",
      "tensor([2, 3, 4])\n",
      "[2 3 4]\n",
      "[10  3  4]\n"
     ]
    }
   ],
   "source": [
    "data_numpy = np.array([2,3,4])\n",
    "print(data_numpy)\n",
    "\n",
    "data_tensor = torch.from_numpy(data_numpy)\n",
    "print(data_tensor)\n",
    "\n",
    "print(data_numpy)\n",
    "data_tensor[0] = 10\n",
    "print(data_numpy)\n"
   ]
  },
  {
   "cell_type": "code",
   "execution_count": 49,
   "metadata": {},
   "outputs": [
    {
     "name": "stdout",
     "output_type": "stream",
     "text": [
      "[2 3 4]\n",
      "tensor([2, 3, 4])\n",
      "[2 3 4]\n",
      "[2 3 4]\n"
     ]
    }
   ],
   "source": [
    "data_numpy = np.array([2,3,4])\n",
    "print(data_numpy)\n",
    "\n",
    "data_tensor = torch.from_numpy(data_numpy.copy())\n",
    "print(data_tensor)\n",
    "\n",
    "print(data_numpy)\n",
    "data_tensor[0] = 10\n",
    "print(data_numpy)"
   ]
  },
  {
   "cell_type": "code",
   "execution_count": 50,
   "metadata": {},
   "outputs": [
    {
     "name": "stdout",
     "output_type": "stream",
     "text": [
      "[2 3 4]\n",
      "tensor([2, 3, 4])\n",
      "[2 3 4]\n",
      "[2 3 4]\n"
     ]
    }
   ],
   "source": [
    "data_numpy = np.array([2,3,4])\n",
    "print(data_numpy)\n",
    "\n",
    "data_tensor = torch.tensor(data_numpy)\n",
    "print(data_tensor)\n",
    "\n",
    "print(data_numpy)\n",
    "data_tensor[0] = 10\n",
    "print(data_numpy)"
   ]
  },
  {
   "cell_type": "code",
   "execution_count": 51,
   "metadata": {},
   "outputs": [
    {
     "name": "stdout",
     "output_type": "stream",
     "text": [
      "2\n",
      "2\n"
     ]
    }
   ],
   "source": [
    "data = torch.tensor([2,])\n",
    "print(data.item())\n",
    "\n",
    "data =  torch.tensor(2)\n",
    "print(data.item())"
   ]
  },
  {
   "cell_type": "code",
   "execution_count": 52,
   "metadata": {},
   "outputs": [
    {
     "name": "stdout",
     "output_type": "stream",
     "text": [
      "tensor([[9, 6, 0],\n",
      "        [4, 8, 3]])\n",
      "tensor([[19, 16, 10],\n",
      "        [14, 18, 13]])\n",
      "tensor([[19, 16, 10],\n",
      "        [14, 18, 13]])\n",
      "tensor([[-19, -16, -10],\n",
      "        [-14, -18, -13]])\n"
     ]
    }
   ],
   "source": [
    "data = torch.randint(0,10,[2,3])\n",
    "print(data)\n",
    "\n",
    "new_data = data.add(10)\n",
    "print(new_data)\n",
    "\n",
    "data.add_(10)\n",
    "print(data)\n",
    "\n",
    "print(data.neg())"
   ]
  },
  {
   "cell_type": "code",
   "execution_count": null,
   "metadata": {},
   "outputs": [
    {
     "name": "stdout",
     "output_type": "stream",
     "text": [
      "tensor([[ 5, 12],\n",
      "        [21, 32]])\n",
      "tensor([[ 5, 12],\n",
      "        [21, 32]])\n"
     ]
    }
   ],
   "source": [
    "data1 = torch.tensor([[1, 2], [3, 4]])\n",
    "data2 = torch.tensor([[5, 6], [7, 8]])\n",
    "\n",
    "data = torch.mul(data1, data2)\n",
    "print(data)\n",
    "\n",
    "data = data1 * data2\n",
    "print(data)"
   ]
  },
  {
   "cell_type": "code",
   "execution_count": null,
   "metadata": {},
   "outputs": [
    {
     "name": "stdout",
     "output_type": "stream",
     "text": [
      "tensor([[19, 22],\n",
      "        [43, 50]])\n",
      "tensor([[19, 22],\n",
      "        [43, 50]])\n"
     ]
    }
   ],
   "source": [
    "import torch\n",
    "data1 = torch.tensor([[1, 2], [3, 4]])\n",
    "data2 = torch.tensor([[5, 6], [7, 8]])\n",
    "\n",
    "data3 = data1 @ data2\n",
    "print(data3)\n",
    "\n",
    "data4 = torch.matmul(data1, data2)\n",
    "print(data4)"
   ]
  },
  {
   "cell_type": "code",
   "execution_count": 3,
   "metadata": {},
   "outputs": [
    {
     "name": "stdout",
     "output_type": "stream",
     "text": [
      "tensor([[4., 1., 6.],\n",
      "        [2., 2., 2.]], dtype=torch.float64)\n",
      "tensor(2.8333, dtype=torch.float64)\n",
      "tensor([3.0000, 1.5000, 4.0000], dtype=torch.float64)\n",
      "tensor([3.6667, 2.0000], dtype=torch.float64)\n",
      "tensor(17., dtype=torch.float64)\n",
      "tensor([6., 3., 8.], dtype=torch.float64)\n",
      "tensor([11.,  6.], dtype=torch.float64)\n",
      "tensor([[2.0000, 1.0000, 2.4495],\n",
      "        [1.4142, 1.4142, 1.4142]], dtype=torch.float64)\n",
      "tensor([[16.,  1., 36.],\n",
      "        [ 4.,  4.,  4.]], dtype=torch.float64)\n",
      "tensor([[ 54.5982,   2.7183, 403.4288],\n",
      "        [  7.3891,   7.3891,   7.3891]], dtype=torch.float64)\n",
      "tensor([[1.3863, 0.0000, 1.7918],\n",
      "        [0.6931, 0.6931, 0.6931]], dtype=torch.float64)\n",
      "tensor([[2.0000, 0.0000, 2.5850],\n",
      "        [1.0000, 1.0000, 1.0000]], dtype=torch.float64)\n",
      "tensor([[0.6021, 0.0000, 0.7782],\n",
      "        [0.3010, 0.3010, 0.3010]], dtype=torch.float64)\n"
     ]
    }
   ],
   "source": [
    "data = torch.randint(0, 10, [2, 3], dtype=torch.float64)\n",
    "print(data)\n",
    "\n",
    "# 均值\n",
    "print(data.mean())\n",
    "# 按列求均值\n",
    "print(data.mean(dim=0))\n",
    "# 按行求均值\n",
    "print(data.mean(dim=1))\n",
    "\n",
    "# 总和\n",
    "print(data.sum())\n",
    "# 按列求总和\n",
    "print(data.sum(dim=0))\n",
    "# 按行求总和\n",
    "print(data.sum(dim=1))\n",
    "\n",
    "# 平方根\n",
    "print(data.sqrt())\n",
    "\n",
    "# 平方\n",
    "print(torch.pow(data, 2))\n",
    "\n",
    "# 指数\n",
    "print(data.exp())\n",
    "\n",
    "# 对数\n",
    "print(data.log())\n",
    "print(data.log2())\n",
    "print(data.log10())"
   ]
  },
  {
   "cell_type": "code",
   "execution_count": 4,
   "metadata": {},
   "outputs": [
    {
     "name": "stdout",
     "output_type": "stream",
     "text": [
      "tensor([[2, 5, 1, 9, 6],\n",
      "        [8, 5, 6, 9, 5],\n",
      "        [5, 3, 1, 0, 6],\n",
      "        [0, 5, 6, 8, 9]])\n"
     ]
    }
   ],
   "source": [
    "data = torch.randint(0, 10, [4, 5])\n",
    "print(data)"
   ]
  },
  {
   "cell_type": "code",
   "execution_count": 5,
   "metadata": {},
   "outputs": [
    {
     "name": "stdout",
     "output_type": "stream",
     "text": [
      "tensor([2, 5, 1, 9, 6])\n",
      "tensor([2, 8, 5, 0])\n"
     ]
    }
   ],
   "source": [
    "print(data[0])\n",
    "print(data[:,0])"
   ]
  },
  {
   "cell_type": "code",
   "execution_count": 7,
   "metadata": {},
   "outputs": [
    {
     "name": "stdout",
     "output_type": "stream",
     "text": [
      "tensor([5, 6])\n",
      "tensor([[5, 1],\n",
      "        [5, 6]])\n"
     ]
    }
   ],
   "source": [
    "# 返回（0，1）、（1，2）两个位置的元素\n",
    "print(data[[0, 1], [1, 2]])\n",
    "\n",
    "# 返回 0、1 行的 1、2 列共4个元素\n",
    "print(data[[[0], [1]], [1, 2]])"
   ]
  },
  {
   "cell_type": "code",
   "execution_count": null,
   "metadata": {},
   "outputs": [],
   "source": [
    "# 前3行的前2列数据\n",
    "print(data[:3, :2])\n",
    "\n",
    "# 第2行到最后的前2列数据\n",
    "print(data[2:, :2])"
   ]
  },
  {
   "cell_type": "code",
   "execution_count": null,
   "metadata": {},
   "outputs": [
    {
     "name": "stdout",
     "output_type": "stream",
     "text": [
      "tensor([[8, 5, 6, 9, 5],\n",
      "        [0, 5, 6, 8, 9]])\n",
      "tensor([[2, 1, 9],\n",
      "        [8, 6, 9],\n",
      "        [5, 1, 0],\n",
      "        [0, 6, 8]])\n"
     ]
    }
   ],
   "source": [
    "# 第3列大于5的行数据\n",
    "print(data[data[:, 2] > 5])\n",
    "\n",
    "# 第2行大于5的列数据\n",
    "print(data[:, data[1] > 5])"
   ]
  },
  {
   "cell_type": "code",
   "execution_count": null,
   "metadata": {},
   "outputs": [
    {
     "name": "stdout",
     "output_type": "stream",
     "text": [
      "tensor([[[6, 9, 2, 5, 0],\n",
      "         [1, 5, 3, 7, 5],\n",
      "         [1, 0, 9, 3, 2],\n",
      "         [5, 3, 0, 8, 9]],\n",
      "\n",
      "        [[0, 2, 2, 2, 9],\n",
      "         [1, 7, 1, 9, 2],\n",
      "         [1, 9, 5, 8, 7],\n",
      "         [9, 4, 2, 8, 1]],\n",
      "\n",
      "        [[0, 2, 1, 4, 0],\n",
      "         [3, 4, 3, 1, 7],\n",
      "         [9, 8, 3, 8, 9],\n",
      "         [0, 0, 7, 1, 8]]])\n",
      "tensor([[6, 9, 2, 5, 0],\n",
      "        [1, 5, 3, 7, 5],\n",
      "        [1, 0, 9, 3, 2],\n",
      "        [5, 3, 0, 8, 9]])\n",
      "tensor([[6, 9, 2, 5, 0],\n",
      "        [0, 2, 2, 2, 9],\n",
      "        [0, 2, 1, 4, 0]])\n",
      "tensor([[6, 1, 1, 5],\n",
      "        [0, 1, 1, 9],\n",
      "        [0, 3, 9, 0]])\n"
     ]
    }
   ],
   "source": [
    "data = torch.randint(0, 10, [3, 4, 5])\n",
    "print(data)\n",
    "\n",
    "# 获取0轴上的第一个数据\n",
    "print(data[0, :, :])\n",
    "# 获取1轴上的第一个数据\n",
    "print(data[:, 0, :])\n",
    "# 获取2轴上的第一个数据\n",
    "print(data[:, :, 0])"
   ]
  },
  {
   "cell_type": "code",
   "execution_count": 14,
   "metadata": {},
   "outputs": [
    {
     "name": "stdout",
     "output_type": "stream",
     "text": [
      "torch.Size([2, 3]) 2 3\n",
      "torch.Size([2, 3]) 2 3\n",
      "tensor([[10, 20, 30, 40, 50, 60]])\n"
     ]
    }
   ],
   "source": [
    "data = torch.tensor([[10, 20, 30], [40, 50, 60]])\n",
    "print(data.shape, data.shape[0], data.shape[1])\n",
    "print(data.size(), data.size(0), data.size(1))\n",
    "\n",
    "new_data = data.reshape(1, 6)\n",
    "print(new_data)"
   ]
  },
  {
   "cell_type": "code",
   "execution_count": 19,
   "metadata": {},
   "outputs": [
    {
     "name": "stdout",
     "output_type": "stream",
     "text": [
      "torch.Size([5]) tensor([1, 2, 3, 4, 5])\n",
      "torch.Size([1, 5]) tensor([[1, 2, 3, 4, 5]])\n",
      "torch.Size([5, 1]) tensor([[1],\n",
      "        [2],\n",
      "        [3],\n",
      "        [4],\n",
      "        [5]])\n",
      "torch.Size([5, 1]) tensor([[1],\n",
      "        [2],\n",
      "        [3],\n",
      "        [4],\n",
      "        [5]])\n",
      "torch.Size([5]) tensor([1, 2, 3, 4, 5])\n"
     ]
    }
   ],
   "source": [
    "data1 = torch.tensor([1, 2, 3, 4, 5])\n",
    "print(data1.shape, data1)\n",
    "\n",
    "data2 = data1.unsqueeze(dim=0)\n",
    "print(data2.shape, data2)\n",
    "\n",
    "data3 = data1.unsqueeze(dim=1)\n",
    "print(data3.shape, data3)\n",
    "\n",
    "data4 = data1.unsqueeze(dim=-1)\n",
    "print(data4.shape, data4)\n",
    "\n",
    "data5 = data4.squeeze()\n",
    "print(data5.shape, data5)"
   ]
  },
  {
   "cell_type": "code",
   "execution_count": 23,
   "metadata": {},
   "outputs": [
    {
     "name": "stdout",
     "output_type": "stream",
     "text": [
      "torch.Size([3, 4, 5])\n",
      "torch.Size([3, 5, 4])\n",
      "torch.Size([4, 3, 5])\n",
      "torch.Size([4, 5, 3])\n",
      "torch.Size([4, 5, 3])\n",
      "torch.Size([4, 5, 3])\n"
     ]
    }
   ],
   "source": [
    "import numpy as np\n",
    "data = torch.tensor(np.random.randint(0, 10, [3, 4, 5]))\n",
    "print(data.size())\n",
    "\n",
    "data2 = torch.transpose(data, 1, 2)\n",
    "print(data2.size())\n",
    "\n",
    "data3 = torch.transpose(data, 0, 1)\n",
    "print(data3.size())\n",
    "data4 = torch.transpose(data3, 1, 2)\n",
    "print(data4.size())\n",
    "\n",
    "data5 = torch.permute(data, [1, 2, 0])\n",
    "print(data5.size())\n",
    "\n",
    "data6 = data.permute([1, 2, 0])\n",
    "print(data6.size())"
   ]
  },
  {
   "cell_type": "code",
   "execution_count": 26,
   "metadata": {},
   "outputs": [
    {
     "name": "stdout",
     "output_type": "stream",
     "text": [
      "tensor([[10, 20, 30],\n",
      "        [40, 50, 60]]) torch.Size([2, 3])\n",
      "True\n",
      "tensor([[10, 20],\n",
      "        [30, 40],\n",
      "        [50, 60]]) torch.Size([3, 2])\n",
      "True\n",
      "tensor([[10, 40],\n",
      "        [20, 50],\n",
      "        [30, 60]]) torch.Size([3, 2])\n",
      "False\n",
      "True\n",
      "tensor([[10, 40, 20],\n",
      "        [50, 30, 60]]) torch.Size([2, 3])\n"
     ]
    }
   ],
   "source": [
    "data = torch.tensor([[10, 20, 30], [40, 50, 60]])\n",
    "print(data, data.shape)\n",
    "\n",
    "print(data.is_contiguous())\n",
    "\n",
    "data2 = data.view(3, 2)\n",
    "print(data2, data2.shape)\n",
    "\n",
    "print(data2.is_contiguous())\n",
    "\n",
    "data3 = torch.transpose(data, 0, 1)\n",
    "print(data3, data3.shape)\n",
    "\n",
    "print(data3.is_contiguous())\n",
    "\n",
    "print(data3.contiguous().is_contiguous())\n",
    "data4 = data3.contiguous().view(2, 3)\n",
    "print(data4, data4.shape)"
   ]
  },
  {
   "cell_type": "code",
   "execution_count": 27,
   "metadata": {},
   "outputs": [
    {
     "name": "stdout",
     "output_type": "stream",
     "text": [
      "tensor([[[6, 8, 9],\n",
      "         [6, 0, 9]]])\n",
      "tensor([[[9, 1, 5],\n",
      "         [9, 3, 8]]])\n",
      "tensor([[[6, 8, 9],\n",
      "         [6, 0, 9]],\n",
      "\n",
      "        [[9, 1, 5],\n",
      "         [9, 3, 8]]])\n",
      "torch.Size([2, 2, 3])\n",
      "tensor([[[6, 8, 9],\n",
      "         [6, 0, 9],\n",
      "         [9, 1, 5],\n",
      "         [9, 3, 8]]])\n",
      "torch.Size([1, 4, 3])\n",
      "tensor([[[6, 8, 9, 9, 1, 5],\n",
      "         [6, 0, 9, 9, 3, 8]]])\n",
      "torch.Size([1, 2, 6])\n"
     ]
    }
   ],
   "source": [
    "data1 = torch.randint(0, 10, [1, 2, 3])\n",
    "data2 = torch.randint(0, 10, [1, 2, 3])\n",
    "print(data1)\n",
    "print(data2)\n",
    "\n",
    "new_data = torch.cat([data1, data2], dim=0)\n",
    "print(new_data)\n",
    "print(new_data.shape)\n",
    "\n",
    "new_data = torch.cat([data1, data2], dim=1)\n",
    "print(new_data)\n",
    "print(new_data.shape)\n",
    "\n",
    "new_data = torch.cat([data1, data2], dim=2)\n",
    "print(new_data)\n",
    "print(new_data.shape)"
   ]
  },
  {
   "cell_type": "code",
   "execution_count": 33,
   "metadata": {},
   "outputs": [
    {
     "name": "stdout",
     "output_type": "stream",
     "text": [
      "w的梯度值： tensor(80.)\n",
      "b的梯度值： tensor(16.)\n"
     ]
    }
   ],
   "source": [
    "def test01():\n",
    "    x = torch.tensor(5)\n",
    "    # 目标值\n",
    "    y = torch.tensor(0.)\n",
    "    # 设置要更新的权重和偏置的初始值\n",
    "    w = torch.tensor(1., requires_grad=True, dtype=torch.float32)\n",
    "    b = torch.tensor(3., requires_grad=True, dtype=torch.float32)\n",
    "    # 设置网络的输出值\n",
    "    z = x * w + b\n",
    "    # 设置损失函数，并进行损失的计算\n",
    "    loss = torch.nn.MSELoss()\n",
    "    loss = loss(z, y)\n",
    "    # 自动微分\n",
    "    loss.backward()\n",
    "    # 打印w、b变量的梯度\n",
    "    # backward函数计算的梯度值会存储在张量的grad变量中\n",
    "    print('w的梯度值：', w.grad)\n",
    "    print('b的梯度值：', b.grad)\n",
    "  \n",
    "test01()"
   ]
  },
  {
   "cell_type": "code",
   "execution_count": 32,
   "metadata": {},
   "outputs": [
    {
     "name": "stdout",
     "output_type": "stream",
     "text": [
      "w的梯度值： tensor([[-0.4885,  0.3732, -0.2743],\n",
      "        [-0.4885,  0.3732, -0.2743],\n",
      "        [-0.4885,  0.3732, -0.2743],\n",
      "        [-0.4885,  0.3732, -0.2743],\n",
      "        [-0.4885,  0.3732, -0.2743]])\n",
      "b的梯度值： tensor([-0.4885,  0.3732, -0.2743])\n"
     ]
    }
   ],
   "source": [
    "def test02():\n",
    "    # 输入张量\n",
    "    x = torch.ones(2, 5)\n",
    "    # 目标值\n",
    "    y = torch.zeros(2, 3)\n",
    "    # 设置要更新的权重和偏置的初始值\n",
    "    w = torch.randn(5, 3, requires_grad=True)\n",
    "    b = torch.randn(3, requires_grad=True)\n",
    "    # 设置网络的输出值\n",
    "    z = torch.matmul(x, w)+b\n",
    "    # 设置损失函数，并进行损失的计算\n",
    "    loss = torch.nn.MSELoss()\n",
    "    loss = loss(z, y)\n",
    "    # 自动微分\n",
    "    loss.backward()\n",
    "    # 打印w、b变量的梯度\n",
    "    # backward函数计算的梯度值会存储在张量的grad变量中\n",
    "    print('w的梯度值：', w.grad)\n",
    "    print('b的梯度值：', b.grad)\n",
    "\n",
    "test02()"
   ]
  },
  {
   "cell_type": "code",
   "execution_count": null,
   "metadata": {},
   "outputs": [
    {
     "name": "stderr",
     "output_type": "stream",
     "text": [
      "C:\\Users\\cnscottluo\\AppData\\Local\\Temp\\ipykernel_27100\\3420056281.py:32: DeprecationWarning: __array_wrap__ must accept context and return_scalar arguments (positionally) in the future. (Deprecated NumPy 2.0)\n",
      "  y1 = torch.tensor([v * coef + 1.5 for v in x])\n"
     ]
    },
    {
     "data": {
      "image/png": "[encoded data removed]",
      "text/plain": [
       "<Figure size 640x480 with 1 Axes>"
      ]
     },
     "metadata": {},
     "output_type": "display_data"
    }
   ],
   "source": [
    "from cProfile import label\n",
    "from torch.utils.data import TensorDataset  # 构造数据集对象\n",
    "from torch.utils.data import DataLoader  # 数据加载器\n",
    "from torch import nn  # nn模块中有平方损失函数和假设函数\n",
    "from torch import optim  # optim模块中有优化器函数\n",
    "from sklearn.datasets import make_regression  # 创建线性回归模型数据集\n",
    "import matplotlib.pyplot as plt\n",
    "\n",
    "plt.rcParams['font.sans-serif'] = ['SimHei']  # 用来正常显示中文标签\n",
    "plt.rcParams['axes.unicode_minus'] = False  # 用来正常显示负号\n",
    "\n",
    "# 创建随机的回归问题数据集\n",
    "\n",
    "\n",
    "def create_dataset():\n",
    "    x, y, coef = make_regression(n_samples=100,  # 样本数\n",
    "                                 n_features=1,  # 特征数\n",
    "                                 noise=10,  # 噪声\n",
    "                                 coef=True,  # 返回回归系数\n",
    "                                 bias=1.5,  # 偏置项\n",
    "                                 random_state=0  # 生成的数据可重复\n",
    "                                 )\n",
    "    x = torch.tensor(x)\n",
    "    y = torch.tensor(y)\n",
    "    return x, y, coef\n",
    "\n",
    "\n",
    "x, y, coef = create_dataset()\n",
    "# 绘制数据的真实线性回归结果\n",
    "plt.scatter(x, y)  # 绘制散点图\n",
    "# 生成从x最小值到x最大值的1000个数据\n",
    "x = torch.linspace(x.min(), x.max(), 1000)\n",
    "# 计算线性回归值\n",
    "y1 = torch.tensor([v * coef + 1.5 for v in x])\n",
    "plt.plot(x, y1, label='real')  # 绘制线性回归线\n",
    "plt.grid()  # 添加网格线\n",
    "plt.legend()  # 显示图例\n",
    "plt.show()  # 显示图形"
   ]
  },
  {
   "cell_type": "code",
   "execution_count": 39,
   "metadata": {},
   "outputs": [
    {
     "data": {
      "image/png": "[encoded data removed]",
      "text/plain": [
       "<Figure size 640x480 with 1 Axes>"
      ]
     },
     "metadata": {},
     "output_type": "display_data"
    },
    {
     "name": "stdout",
     "output_type": "stream",
     "text": [
      "Parameter containing:\n",
      "tensor([[42.5129]], requires_grad=True) Parameter containing:\n",
      "tensor([0.8351], requires_grad=True)\n"
     ]
    },
    {
     "name": "stderr",
     "output_type": "stream",
     "text": [
      "C:\\Users\\cnscottluo\\AppData\\Local\\Temp\\ipykernel_27100\\988235871.py:47: DeprecationWarning: __array_wrap__ must accept context and return_scalar arguments (positionally) in the future. (Deprecated NumPy 2.0)\n",
      "  y2 = torch.tensor([v * coef + 1.5 for v in x])\n"
     ]
    },
    {
     "data": {
      "image/png": "[encoded data removed]",
      "text/plain": [
       "<Figure size 640x480 with 1 Axes>"
      ]
     },
     "metadata": {},
     "output_type": "display_data"
    }
   ],
   "source": [
    "x, y, coef = create_dataset()\n",
    "dataset = TensorDataset(x, y)  # 构造数据集对象\n",
    "dataloader = DataLoader(dataset, batch_size=16, shuffle=True)  # 数据加载器\n",
    "\n",
    "# 构造线性回归模型\n",
    "model = nn.Linear(1, 1)\n",
    "# 构造平方损失函数\n",
    "criterion = nn.MSELoss()\n",
    "# 构造优化器函数\n",
    "optimizer = optim.SGD(model.parameters(), lr=1e-2)\n",
    "\n",
    "# 训练模型\n",
    "epochs = 1000  # 训练次数\n",
    "loss_eposh = []\n",
    "total_loss = 0.0\n",
    "train_sample = 0.0\n",
    "\n",
    "for _ in range(epochs):\n",
    "    for train_x, train_y in dataloader:\n",
    "        # 将一个batch的训练数据放入模型中\n",
    "        y_pred = model(train_x.type(torch.float32))\n",
    "        # 计算损失值\n",
    "        loss = criterion(y_pred, train_y.reshape(-1, 1).type(torch.float32))\n",
    "        total_loss += loss.item()\n",
    "        train_sample += len(train_y)\n",
    "        optimizer.zero_grad()  # 梯度清零\n",
    "        # 计算损失\n",
    "        loss.backward()  # 反向传播\n",
    "        optimizer.step()  # 更新参数\n",
    "    # 计算每个batch的平均损失\n",
    "    loss_eposh.append(total_loss/train_sample)\n",
    "    total_loss = 0.0\n",
    "    train_sample = 0.0\n",
    "\n",
    "# 绘制损失变化曲线\n",
    "plt.plot(range(epochs), loss_eposh)\n",
    "plt.title('损失变化曲线')\n",
    "plt.grid()\n",
    "plt.show()\n",
    "\n",
    "# 绘制数据的真实线性回归结果\n",
    "plt.scatter(x, y)  # 绘制散点图\n",
    "# 生成从x最小值到x最大值的1000个数据\n",
    "x = torch.linspace(x.min(), x.max(), 1000)\n",
    "# 计算线性回归值\n",
    "y1 = torch.tensor([v * model.weight + model.bias for v in x])\n",
    "y2 = torch.tensor([v * coef + 1.5 for v in x])\n",
    "plt.plot(x, y1, label=\"训练\")\n",
    "plt.plot(x, y2, label=\"真实\")\n",
    "print(model.weight, model.bias)\n",
    "plt.grid()\n",
    "plt.legend()\n",
    "plt.show()"
   ]
  }
 ],
 "metadata": {
  "kernelspec": {
   "display_name": "hf",
   "language": "python",
   "name": "python3"
  },
  "language_info": {
   "codemirror_mode": {
    "name": "ipython",
    "version": 3
   },
   "file_extension": ".py",
   "mimetype": "text/x-python",
   "name": "python",
   "nbconvert_exporter": "python",
   "pygments_lexer": "ipython3",
   "version": "3.10.16"
  }
 },
 "nbformat": 4,
 "nbformat_minor": 2
}
